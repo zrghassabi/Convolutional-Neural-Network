{
  "nbformat": 4,
  "nbformat_minor": 0,
  "metadata": {
    "colab": {
      "name": "dataloader.ipynb",
      "private_outputs": true,
      "provenance": [],
      "collapsed_sections": [],
      "authorship_tag": "ABX9TyNcYf2yjlG/cSoeJVKY7PQS",
      "include_colab_link": true
    },
    "kernelspec": {
      "name": "python3",
      "display_name": "Python 3"
    },
    "language_info": {
      "name": "python"
    }
  },
  "cells": [
    {
      "cell_type": "markdown",
      "metadata": {
        "id": "view-in-github",
        "colab_type": "text"
      },
      "source": [
        "<a href=\"https://colab.research.google.com/github/zrghassabi/Convolutional-Neural-Network/blob/main/dataloader.ipynb\" target=\"_parent\"><img src=\"https://colab.research.google.com/assets/colab-badge.svg\" alt=\"Open In Colab\"/></a>"
      ]
    },
    {
      "cell_type": "markdown",
      "metadata": {
        "id": "41EOUtoFAwXp"
      },
      "source": [
        "# DataSet"
      ]
    },
    {
      "cell_type": "code",
      "metadata": {
        "id": "XzyVKD_z-i01"
      },
      "source": [
        "import torch\n",
        "import torchvision\n",
        "from torchvision import transforms\n",
        "\n",
        "#load Dataset\n",
        "#train_dataset=torchvision.datasets.MNIST(root='./Dataset/',train=True, transform=transforms.ToTensor(),download=True)\n",
        "#valid_dataset=torchvision.datasets.MNIST(root='./Dataset/',train=False, transform=transforms.ToTensor(),download=True)\n",
        "#test_dataset=torchvision.datasets.MNIST(root='./Dataset/',train=False, transform=transforms.ToTensor(),download=True)\n",
        "\n",
        "#or apply different transforms to input data\n",
        "train_dataset=torchvision.datasets.MNIST(root='./Dataset/',train=True, transform=transforms.Compose([ \n",
        "                                                                           transforms.Resize((14,14),transforms.InterpolationMode.BICUBIC),\n",
        "                                                                           transforms.Grayscale(),\n",
        "                                                                           transforms.ToTensor()]),\n",
        "                                                                       download=True)\n",
        "valid_dataset=torchvision.datasets.MNIST(root='./Dataset/',train=False, transform=transforms.Compose([ \n",
        "                                                                           transforms.Resize((14,14),transforms.InterpolationMode.BICUBIC),\n",
        "                                                                           transforms.Grayscale(),\n",
        "                                                                           transforms.ToTensor()]),\n",
        "                                                                       download=True)\n",
        "test_dataset=torchvision.datasets.MNIST(root='./Dataset/',train=False, transform=transforms.Compose([ \n",
        "                                                                           transforms.Resize((14,14),transforms.InterpolationMode.BICUBIC),\n",
        "                                                                           transforms.Grayscale(),\n",
        "                                                                           transforms.ToTensor()]),\n",
        "                                                                       download=True)\n",
        "\n"
      ],
      "execution_count": null,
      "outputs": []
    },
    {
      "cell_type": "code",
      "metadata": {
        "id": "9ukcEz9ZA64r"
      },
      "source": [
        "train_dataset.train_data  #to see train_data"
      ],
      "execution_count": null,
      "outputs": []
    },
    {
      "cell_type": "code",
      "metadata": {
        "id": "z7IXALlnBEv_"
      },
      "source": [
        "train_dataset.train_data.shape  #shape of all data"
      ],
      "execution_count": null,
      "outputs": []
    },
    {
      "cell_type": "code",
      "metadata": {
        "id": "ohdYuBXlBKCO"
      },
      "source": [
        "train_dataset.train_data[0,:,:].shape  #shape of one of data"
      ],
      "execution_count": null,
      "outputs": []
    },
    {
      "cell_type": "code",
      "metadata": {
        "id": "4F0WFhAEBSNm"
      },
      "source": [
        "# to show one image (requires opencv)\n",
        "import cv2\n",
        "import numpy as np\n",
        "\n",
        "cv2.imshow('image',np.asarray(train_dataset.train_data[0,:,:]))\n",
        "cv2.waitkey(2000)"
      ],
      "execution_count": null,
      "outputs": []
    },
    {
      "cell_type": "code",
      "metadata": {
        "id": "jPwpiP_jC7DE"
      },
      "source": [
        "train_dataset.train_labels  #to see labels"
      ],
      "execution_count": null,
      "outputs": []
    },
    {
      "cell_type": "code",
      "metadata": {
        "id": "fXW7yFvcLG8a"
      },
      "source": [
        "#parameters\n",
        "batch_size=64"
      ],
      "execution_count": null,
      "outputs": []
    },
    {
      "cell_type": "code",
      "metadata": {
        "id": "hPZHq84rMmeZ"
      },
      "source": [
        "#data loader\n",
        "\n",
        "train_loader=torch.utils.data.DataLoader(dataset=train_dataset, batch_size=batch_size, shuffle=True)\n",
        "valid_loader=torch.utils.data.DataLoader(dataset=valid_dataset, batch_size=batch_size, shuffle=True)\n",
        "test_loader=torch.utils.data.DataLoader(dataset=test_dataset, batch_size=batch_size, shuffle=True)"
      ],
      "execution_count": null,
      "outputs": []
    },
    {
      "cell_type": "code",
      "metadata": {
        "id": "oEjF6eGJM8Qg"
      },
      "source": [
        "#main loop\n",
        "for data,label in train_loader:  #to show batches with 64 size\n",
        "    print(label)"
      ],
      "execution_count": null,
      "outputs": []
    },
    {
      "cell_type": "code",
      "metadata": {
        "id": "fizmCC4UXoo4"
      },
      "source": [
        "#main loop\n",
        "for imgs,label in train_loader:  #to show batches with 64 size\n",
        "    print(imgs.shape)"
      ],
      "execution_count": null,
      "outputs": []
    },
    {
      "cell_type": "code",
      "metadata": {
        "id": "VEOEvx3INLx1"
      },
      "source": [
        "data.shape  #pay attention that dimension is 4"
      ],
      "execution_count": null,
      "outputs": []
    },
    {
      "cell_type": "code",
      "metadata": {
        "id": "SjMUyfBFO_Os"
      },
      "source": [
        "#load custom dataset, use Imagefolder or DatasetsFolder\n",
        "#this gives you address of images in the root folder\n",
        "#when you use dataloader, you will get access to images (e.x. 64 images with random idx)\n",
        "#train_dataset=torchvision.datasets.DatasetFolder('',transforms=transforms.ToTensor())\n",
        "#validation_dataset=torchvision.datasets.DatasetFolder('',transforms=transforms.ToTensor())\n",
        "#test_dataset=torchvision.datasets.DatasetFolder('',transforms=transforms.ToTensor())\n",
        "\n",
        "#train_dataset.samples\n",
        "#train_datset.classes\n",
        "#train_dataset.class_to_idx"
      ],
      "execution_count": null,
      "outputs": []
    },
    {
      "cell_type": "code",
      "metadata": {
        "id": "Sh87lJ54W8Cs"
      },
      "source": [
        ""
      ],
      "execution_count": null,
      "outputs": []
    }
  ]
}