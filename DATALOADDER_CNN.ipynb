{
  "nbformat": 4,
  "nbformat_minor": 0,
  "metadata": {
    "colab": {
      "name": "DATALOADDER_CNN.ipynb",
      "provenance": [],
      "toc_visible": true,
      "authorship_tag": "ABX9TyOCEmUw0S9eJ8I6rgwp1L20",
      "include_colab_link": true
    },
    "kernelspec": {
      "name": "python3",
      "display_name": "Python 3"
    },
    "language_info": {
      "name": "python"
    },
    "accelerator": "GPU"
  },
  "cells": [
    {
      "cell_type": "markdown",
      "metadata": {
        "id": "view-in-github",
        "colab_type": "text"
      },
      "source": [
        "<a href=\"https://colab.research.google.com/github/zrghassabi/Convolutional-Neural-Network/blob/main/DATALOADDER_CNN.ipynb\" target=\"_parent\"><img src=\"https://colab.research.google.com/assets/colab-badge.svg\" alt=\"Open In Colab\"/></a>"
      ]
    },
    {
      "cell_type": "markdown",
      "metadata": {
        "id": "RhUwdJriODBe"
      },
      "source": [
        "# Import"
      ]
    },
    {
      "cell_type": "code",
      "metadata": {
        "colab": {
          "base_uri": "https://localhost:8080/"
        },
        "id": "UOz9pM3sllCd",
        "outputId": "8dce4ace-9c1e-487c-aa3c-0a6b0f8e3409"
      },
      "source": [
        "import torch\n",
        "import torchvision\n",
        "from torchvision.datasets import MNIST\n",
        "from torchvision import transforms\n",
        "\n",
        "print(torch.version)\n",
        "print(torch.cuda.get_device_name())\n",
        "print(torch.cuda.get_device_properties('cuda'))"
      ],
      "execution_count": null,
      "outputs": [
        {
          "output_type": "stream",
          "name": "stdout",
          "text": [
            "<module 'torch.version' from '/usr/local/lib/python3.7/dist-packages/torch/version.py'>\n",
            "Tesla K80\n",
            "_CudaDeviceProperties(name='Tesla K80', major=3, minor=7, total_memory=11441MB, multi_processor_count=13)\n"
          ]
        }
      ]
    },
    {
      "cell_type": "markdown",
      "metadata": {
        "id": "b1GNLtkslfkb"
      },
      "source": [
        "# Initialization"
      ]
    },
    {
      "cell_type": "code",
      "metadata": {
        "id": "wkUBARDllonD"
      },
      "source": [
        "Batch_size=256"
      ],
      "execution_count": null,
      "outputs": []
    },
    {
      "cell_type": "markdown",
      "metadata": {
        "id": "V21Il5Vguruh"
      },
      "source": [
        "#Dataset"
      ]
    },
    {
      "cell_type": "code",
      "metadata": {
        "id": "kJbZJC86uxR3"
      },
      "source": [
        "train_dataset=MNIST('./MNIST', train= True, transform= transforms.ToTensor(),download= True)\n",
        "\n",
        "test_dataset=MNIST('./MNIST', train= False, transform= transforms.ToTensor(),download= True)"
      ],
      "execution_count": null,
      "outputs": []
    },
    {
      "cell_type": "code",
      "metadata": {
        "id": "Ta5lrzvNzgoe"
      },
      "source": [
        "train_loader=torch.utils.data.DataLoader(dataset=train_dataset,batch_size=Batch_size,  shuffle=True, drop_last=True)\n",
        "\n",
        "test_loader=torch.utils.data.DataLoader(dataset=test_dataset,batch_size=Batch_size, shuffle=True)\n"
      ],
      "execution_count": null,
      "outputs": []
    },
    {
      "cell_type": "code",
      "metadata": {
        "colab": {
          "base_uri": "https://localhost:8080/"
        },
        "id": "peST4jwN24oF",
        "outputId": "22fbdcd6-94b9-4c05-bb1a-8e07a3107d6f"
      },
      "source": [
        "#In case you want to see one batch\n",
        "one_train_batch_imgs, one_train_batch_lbls=next(iter(train_loader))\n",
        "print(one_train_batch_imgs.shape)\n",
        "print(one_train_batch_lbls)"
      ],
      "execution_count": null,
      "outputs": [
        {
          "output_type": "stream",
          "name": "stdout",
          "text": [
            "torch.Size([256, 1, 28, 28])\n",
            "tensor([2, 8, 7, 4, 4, 4, 3, 1, 4, 7, 1, 9, 4, 3, 4, 3, 6, 9, 9, 4, 6, 2, 0, 1,\n",
            "        0, 3, 0, 5, 6, 6, 7, 6, 1, 0, 1, 6, 0, 7, 6, 2, 6, 9, 7, 1, 4, 0, 3, 5,\n",
            "        0, 3, 3, 6, 3, 3, 3, 6, 4, 1, 8, 1, 3, 8, 0, 2, 5, 4, 2, 9, 6, 3, 9, 5,\n",
            "        6, 9, 4, 9, 2, 0, 2, 8, 5, 7, 6, 5, 1, 0, 3, 6, 9, 1, 1, 3, 0, 5, 0, 9,\n",
            "        9, 0, 1, 8, 3, 1, 4, 6, 6, 8, 6, 1, 7, 6, 3, 5, 5, 1, 1, 9, 3, 6, 2, 3,\n",
            "        4, 0, 0, 2, 9, 9, 0, 6, 1, 7, 3, 4, 7, 3, 6, 4, 9, 0, 5, 1, 4, 9, 6, 2,\n",
            "        3, 5, 1, 2, 4, 4, 8, 7, 0, 2, 6, 1, 3, 2, 0, 0, 1, 6, 1, 4, 0, 6, 0, 0,\n",
            "        1, 0, 2, 9, 9, 6, 9, 1, 5, 3, 8, 0, 6, 7, 6, 8, 6, 2, 5, 2, 3, 9, 7, 1,\n",
            "        7, 8, 7, 4, 3, 3, 4, 6, 1, 4, 2, 6, 0, 9, 8, 2, 3, 9, 0, 3, 5, 5, 3, 8,\n",
            "        1, 7, 3, 4, 8, 3, 8, 2, 3, 2, 0, 5, 3, 3, 6, 2, 7, 1, 8, 3, 6, 2, 3, 4,\n",
            "        2, 5, 2, 7, 9, 9, 4, 5, 4, 0, 6, 1, 0, 5, 9, 7])\n"
          ]
        }
      ]
    },
    {
      "cell_type": "code",
      "metadata": {
        "id": "X086LJIM4G_0"
      },
      "source": [
        ""
      ],
      "execution_count": null,
      "outputs": []
    },
    {
      "cell_type": "code",
      "metadata": {
        "colab": {
          "base_uri": "https://localhost:8080/"
        },
        "id": "jcjlxfm60dBJ",
        "outputId": "c96f678a-70a2-4745-c7f7-68a6004dea09"
      },
      "source": [
        "for batch_number, (images, labels) in enumerate(train_loader):  #enumerate shows the num of batches\n",
        "    print(batch_number,images.shape)                            # each image has 1 channel, batch size is 256, size of image is 28*28\n",
        "                                                                #drop_last=True in loader  discard last batch which its size is 96"
      ],
      "execution_count": null,
      "outputs": [
        {
          "output_type": "stream",
          "name": "stdout",
          "text": [
            "0 torch.Size([256, 1, 28, 28])\n",
            "1 torch.Size([256, 1, 28, 28])\n",
            "2 torch.Size([256, 1, 28, 28])\n",
            "3 torch.Size([256, 1, 28, 28])\n",
            "4 torch.Size([256, 1, 28, 28])\n",
            "5 torch.Size([256, 1, 28, 28])\n",
            "6 torch.Size([256, 1, 28, 28])\n",
            "7 torch.Size([256, 1, 28, 28])\n",
            "8 torch.Size([256, 1, 28, 28])\n",
            "9 torch.Size([256, 1, 28, 28])\n",
            "10 torch.Size([256, 1, 28, 28])\n",
            "11 torch.Size([256, 1, 28, 28])\n",
            "12 torch.Size([256, 1, 28, 28])\n",
            "13 torch.Size([256, 1, 28, 28])\n",
            "14 torch.Size([256, 1, 28, 28])\n",
            "15 torch.Size([256, 1, 28, 28])\n",
            "16 torch.Size([256, 1, 28, 28])\n",
            "17 torch.Size([256, 1, 28, 28])\n",
            "18 torch.Size([256, 1, 28, 28])\n",
            "19 torch.Size([256, 1, 28, 28])\n",
            "20 torch.Size([256, 1, 28, 28])\n",
            "21 torch.Size([256, 1, 28, 28])\n",
            "22 torch.Size([256, 1, 28, 28])\n",
            "23 torch.Size([256, 1, 28, 28])\n",
            "24 torch.Size([256, 1, 28, 28])\n",
            "25 torch.Size([256, 1, 28, 28])\n",
            "26 torch.Size([256, 1, 28, 28])\n",
            "27 torch.Size([256, 1, 28, 28])\n",
            "28 torch.Size([256, 1, 28, 28])\n",
            "29 torch.Size([256, 1, 28, 28])\n",
            "30 torch.Size([256, 1, 28, 28])\n",
            "31 torch.Size([256, 1, 28, 28])\n",
            "32 torch.Size([256, 1, 28, 28])\n",
            "33 torch.Size([256, 1, 28, 28])\n",
            "34 torch.Size([256, 1, 28, 28])\n",
            "35 torch.Size([256, 1, 28, 28])\n",
            "36 torch.Size([256, 1, 28, 28])\n",
            "37 torch.Size([256, 1, 28, 28])\n",
            "38 torch.Size([256, 1, 28, 28])\n",
            "39 torch.Size([256, 1, 28, 28])\n",
            "40 torch.Size([256, 1, 28, 28])\n",
            "41 torch.Size([256, 1, 28, 28])\n",
            "42 torch.Size([256, 1, 28, 28])\n",
            "43 torch.Size([256, 1, 28, 28])\n",
            "44 torch.Size([256, 1, 28, 28])\n",
            "45 torch.Size([256, 1, 28, 28])\n",
            "46 torch.Size([256, 1, 28, 28])\n",
            "47 torch.Size([256, 1, 28, 28])\n",
            "48 torch.Size([256, 1, 28, 28])\n",
            "49 torch.Size([256, 1, 28, 28])\n",
            "50 torch.Size([256, 1, 28, 28])\n",
            "51 torch.Size([256, 1, 28, 28])\n",
            "52 torch.Size([256, 1, 28, 28])\n",
            "53 torch.Size([256, 1, 28, 28])\n",
            "54 torch.Size([256, 1, 28, 28])\n",
            "55 torch.Size([256, 1, 28, 28])\n",
            "56 torch.Size([256, 1, 28, 28])\n",
            "57 torch.Size([256, 1, 28, 28])\n",
            "58 torch.Size([256, 1, 28, 28])\n",
            "59 torch.Size([256, 1, 28, 28])\n",
            "60 torch.Size([256, 1, 28, 28])\n",
            "61 torch.Size([256, 1, 28, 28])\n",
            "62 torch.Size([256, 1, 28, 28])\n",
            "63 torch.Size([256, 1, 28, 28])\n",
            "64 torch.Size([256, 1, 28, 28])\n",
            "65 torch.Size([256, 1, 28, 28])\n",
            "66 torch.Size([256, 1, 28, 28])\n",
            "67 torch.Size([256, 1, 28, 28])\n",
            "68 torch.Size([256, 1, 28, 28])\n",
            "69 torch.Size([256, 1, 28, 28])\n",
            "70 torch.Size([256, 1, 28, 28])\n",
            "71 torch.Size([256, 1, 28, 28])\n",
            "72 torch.Size([256, 1, 28, 28])\n",
            "73 torch.Size([256, 1, 28, 28])\n",
            "74 torch.Size([256, 1, 28, 28])\n",
            "75 torch.Size([256, 1, 28, 28])\n",
            "76 torch.Size([256, 1, 28, 28])\n",
            "77 torch.Size([256, 1, 28, 28])\n",
            "78 torch.Size([256, 1, 28, 28])\n",
            "79 torch.Size([256, 1, 28, 28])\n",
            "80 torch.Size([256, 1, 28, 28])\n",
            "81 torch.Size([256, 1, 28, 28])\n",
            "82 torch.Size([256, 1, 28, 28])\n",
            "83 torch.Size([256, 1, 28, 28])\n",
            "84 torch.Size([256, 1, 28, 28])\n",
            "85 torch.Size([256, 1, 28, 28])\n",
            "86 torch.Size([256, 1, 28, 28])\n",
            "87 torch.Size([256, 1, 28, 28])\n",
            "88 torch.Size([256, 1, 28, 28])\n",
            "89 torch.Size([256, 1, 28, 28])\n",
            "90 torch.Size([256, 1, 28, 28])\n",
            "91 torch.Size([256, 1, 28, 28])\n",
            "92 torch.Size([256, 1, 28, 28])\n",
            "93 torch.Size([256, 1, 28, 28])\n",
            "94 torch.Size([256, 1, 28, 28])\n",
            "95 torch.Size([256, 1, 28, 28])\n",
            "96 torch.Size([256, 1, 28, 28])\n",
            "97 torch.Size([256, 1, 28, 28])\n",
            "98 torch.Size([256, 1, 28, 28])\n",
            "99 torch.Size([256, 1, 28, 28])\n",
            "100 torch.Size([256, 1, 28, 28])\n",
            "101 torch.Size([256, 1, 28, 28])\n",
            "102 torch.Size([256, 1, 28, 28])\n",
            "103 torch.Size([256, 1, 28, 28])\n",
            "104 torch.Size([256, 1, 28, 28])\n",
            "105 torch.Size([256, 1, 28, 28])\n",
            "106 torch.Size([256, 1, 28, 28])\n",
            "107 torch.Size([256, 1, 28, 28])\n",
            "108 torch.Size([256, 1, 28, 28])\n",
            "109 torch.Size([256, 1, 28, 28])\n",
            "110 torch.Size([256, 1, 28, 28])\n",
            "111 torch.Size([256, 1, 28, 28])\n",
            "112 torch.Size([256, 1, 28, 28])\n",
            "113 torch.Size([256, 1, 28, 28])\n",
            "114 torch.Size([256, 1, 28, 28])\n",
            "115 torch.Size([256, 1, 28, 28])\n",
            "116 torch.Size([256, 1, 28, 28])\n",
            "117 torch.Size([256, 1, 28, 28])\n",
            "118 torch.Size([256, 1, 28, 28])\n",
            "119 torch.Size([256, 1, 28, 28])\n",
            "120 torch.Size([256, 1, 28, 28])\n",
            "121 torch.Size([256, 1, 28, 28])\n",
            "122 torch.Size([256, 1, 28, 28])\n",
            "123 torch.Size([256, 1, 28, 28])\n",
            "124 torch.Size([256, 1, 28, 28])\n",
            "125 torch.Size([256, 1, 28, 28])\n",
            "126 torch.Size([256, 1, 28, 28])\n",
            "127 torch.Size([256, 1, 28, 28])\n",
            "128 torch.Size([256, 1, 28, 28])\n",
            "129 torch.Size([256, 1, 28, 28])\n",
            "130 torch.Size([256, 1, 28, 28])\n",
            "131 torch.Size([256, 1, 28, 28])\n",
            "132 torch.Size([256, 1, 28, 28])\n",
            "133 torch.Size([256, 1, 28, 28])\n",
            "134 torch.Size([256, 1, 28, 28])\n",
            "135 torch.Size([256, 1, 28, 28])\n",
            "136 torch.Size([256, 1, 28, 28])\n",
            "137 torch.Size([256, 1, 28, 28])\n",
            "138 torch.Size([256, 1, 28, 28])\n",
            "139 torch.Size([256, 1, 28, 28])\n",
            "140 torch.Size([256, 1, 28, 28])\n",
            "141 torch.Size([256, 1, 28, 28])\n",
            "142 torch.Size([256, 1, 28, 28])\n",
            "143 torch.Size([256, 1, 28, 28])\n",
            "144 torch.Size([256, 1, 28, 28])\n",
            "145 torch.Size([256, 1, 28, 28])\n",
            "146 torch.Size([256, 1, 28, 28])\n",
            "147 torch.Size([256, 1, 28, 28])\n",
            "148 torch.Size([256, 1, 28, 28])\n",
            "149 torch.Size([256, 1, 28, 28])\n",
            "150 torch.Size([256, 1, 28, 28])\n",
            "151 torch.Size([256, 1, 28, 28])\n",
            "152 torch.Size([256, 1, 28, 28])\n",
            "153 torch.Size([256, 1, 28, 28])\n",
            "154 torch.Size([256, 1, 28, 28])\n",
            "155 torch.Size([256, 1, 28, 28])\n",
            "156 torch.Size([256, 1, 28, 28])\n",
            "157 torch.Size([256, 1, 28, 28])\n",
            "158 torch.Size([256, 1, 28, 28])\n",
            "159 torch.Size([256, 1, 28, 28])\n",
            "160 torch.Size([256, 1, 28, 28])\n",
            "161 torch.Size([256, 1, 28, 28])\n",
            "162 torch.Size([256, 1, 28, 28])\n",
            "163 torch.Size([256, 1, 28, 28])\n",
            "164 torch.Size([256, 1, 28, 28])\n",
            "165 torch.Size([256, 1, 28, 28])\n",
            "166 torch.Size([256, 1, 28, 28])\n",
            "167 torch.Size([256, 1, 28, 28])\n",
            "168 torch.Size([256, 1, 28, 28])\n",
            "169 torch.Size([256, 1, 28, 28])\n",
            "170 torch.Size([256, 1, 28, 28])\n",
            "171 torch.Size([256, 1, 28, 28])\n",
            "172 torch.Size([256, 1, 28, 28])\n",
            "173 torch.Size([256, 1, 28, 28])\n",
            "174 torch.Size([256, 1, 28, 28])\n",
            "175 torch.Size([256, 1, 28, 28])\n",
            "176 torch.Size([256, 1, 28, 28])\n",
            "177 torch.Size([256, 1, 28, 28])\n",
            "178 torch.Size([256, 1, 28, 28])\n",
            "179 torch.Size([256, 1, 28, 28])\n",
            "180 torch.Size([256, 1, 28, 28])\n",
            "181 torch.Size([256, 1, 28, 28])\n",
            "182 torch.Size([256, 1, 28, 28])\n",
            "183 torch.Size([256, 1, 28, 28])\n",
            "184 torch.Size([256, 1, 28, 28])\n",
            "185 torch.Size([256, 1, 28, 28])\n",
            "186 torch.Size([256, 1, 28, 28])\n",
            "187 torch.Size([256, 1, 28, 28])\n",
            "188 torch.Size([256, 1, 28, 28])\n",
            "189 torch.Size([256, 1, 28, 28])\n",
            "190 torch.Size([256, 1, 28, 28])\n",
            "191 torch.Size([256, 1, 28, 28])\n",
            "192 torch.Size([256, 1, 28, 28])\n",
            "193 torch.Size([256, 1, 28, 28])\n",
            "194 torch.Size([256, 1, 28, 28])\n",
            "195 torch.Size([256, 1, 28, 28])\n",
            "196 torch.Size([256, 1, 28, 28])\n",
            "197 torch.Size([256, 1, 28, 28])\n",
            "198 torch.Size([256, 1, 28, 28])\n",
            "199 torch.Size([256, 1, 28, 28])\n",
            "200 torch.Size([256, 1, 28, 28])\n",
            "201 torch.Size([256, 1, 28, 28])\n",
            "202 torch.Size([256, 1, 28, 28])\n",
            "203 torch.Size([256, 1, 28, 28])\n",
            "204 torch.Size([256, 1, 28, 28])\n",
            "205 torch.Size([256, 1, 28, 28])\n",
            "206 torch.Size([256, 1, 28, 28])\n",
            "207 torch.Size([256, 1, 28, 28])\n",
            "208 torch.Size([256, 1, 28, 28])\n",
            "209 torch.Size([256, 1, 28, 28])\n",
            "210 torch.Size([256, 1, 28, 28])\n",
            "211 torch.Size([256, 1, 28, 28])\n",
            "212 torch.Size([256, 1, 28, 28])\n",
            "213 torch.Size([256, 1, 28, 28])\n",
            "214 torch.Size([256, 1, 28, 28])\n",
            "215 torch.Size([256, 1, 28, 28])\n",
            "216 torch.Size([256, 1, 28, 28])\n",
            "217 torch.Size([256, 1, 28, 28])\n",
            "218 torch.Size([256, 1, 28, 28])\n",
            "219 torch.Size([256, 1, 28, 28])\n",
            "220 torch.Size([256, 1, 28, 28])\n",
            "221 torch.Size([256, 1, 28, 28])\n",
            "222 torch.Size([256, 1, 28, 28])\n",
            "223 torch.Size([256, 1, 28, 28])\n",
            "224 torch.Size([256, 1, 28, 28])\n",
            "225 torch.Size([256, 1, 28, 28])\n",
            "226 torch.Size([256, 1, 28, 28])\n",
            "227 torch.Size([256, 1, 28, 28])\n",
            "228 torch.Size([256, 1, 28, 28])\n",
            "229 torch.Size([256, 1, 28, 28])\n",
            "230 torch.Size([256, 1, 28, 28])\n",
            "231 torch.Size([256, 1, 28, 28])\n",
            "232 torch.Size([256, 1, 28, 28])\n",
            "233 torch.Size([256, 1, 28, 28])\n"
          ]
        }
      ]
    }
  ]
}